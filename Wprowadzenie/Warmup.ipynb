{
 "cells": [
  {
   "cell_type": "markdown",
   "metadata": {},
   "source": [
    "## Wprowadzenie do języka Python"
   ]
  },
  {
   "cell_type": "markdown",
   "metadata": {},
   "source": [
    "1. Podstawowe typy danych.\n",
    "    * Stwórz i wypisz (funkcja print) zmienne zawierające następujące typy danych: **int, float, complex, string, boolean**.\n",
    "    * Czym różnią się **', \", '''** i **\"\"\"** w przypadku stringów?"
   ]
  },
  {
   "cell_type": "code",
   "metadata": {
    "ExecuteTime": {
     "end_time": "2025-03-08T13:13:37.862693Z",
     "start_time": "2025-03-08T13:13:37.856382Z"
    }
   },
   "source": [
    "a = 1\n",
    "b = 1.2\n",
    "c = 5j\n",
    "d = \"to jest string\"\n",
    "e = True\n",
    "print(f\"int = {a}  float = {b} complex = {c} string = {d}  bool = {e} \")\n",
    "\n",
    "# ' - pojedynczy apostrof, używany do komentarzy jednolinijkowych, można w nim używać \", jeśli chcemy ' to trzeba użyć \\'\n",
    "# \" - podwójny apostrof, używany do kom jednolinijkowych, można w nim używać ', jeśli chcemy \" to trzeba \\\"\n",
    "# ''' - wielowierszowy, bez potrzeby użycia \\n można używać ' i \"\n",
    "# \"\"\" - działa tak jak ''' różni się tylko stylem, używany w docstringach"
   ],
   "outputs": [
    {
     "name": "stdout",
     "output_type": "stream",
     "text": [
      "int = 1  float = 1.2 complex = 5j string = to jest string  bool = True \n"
     ]
    }
   ],
   "execution_count": 1
  },
  {
   "cell_type": "markdown",
   "metadata": {},
   "source": [
    "2. Operatory arytmetyczne.\n",
    "    * Operatory arytmetyczne: **+, -, *, /, //, **, %**.  \n",
    "    * Wyjaśnij znaczenie powyższych operatorów arytmetycznych oraz wykonaj operacje arytmetyczne na dowolnych typach danych i wyświetl wynik.\n",
    "    "
   ]
  },
  {
   "cell_type": "code",
   "metadata": {
    "ExecuteTime": {
     "end_time": "2025-03-08T13:32:58.301995Z",
     "start_time": "2025-03-08T13:32:58.295072Z"
    }
   },
   "source": [
    "a = 2 + 3\n",
    "b = a - 2\n",
    "c = b * a\n",
    "d = 15 / 4 # dzilenie zwykłe\n",
    "e = 12 // 5 # dzielenie całkowite\n",
    "f = 16 % 3 # dzielenie modulo\n",
    "print(f\"a = {a} b = {b} c = {c} d= {d} e = {e} f= {f}\")"
   ],
   "outputs": [
    {
     "name": "stdout",
     "output_type": "stream",
     "text": [
      "a = 5 b = 3 c = 15 d= 3.75 e = 2 f= 1\n"
     ]
    }
   ],
   "execution_count": 2
  },
  {
   "cell_type": "markdown",
   "metadata": {},
   "source": [
    "2. Struktury danych. \n",
    "    * Struktury danych: **list, tuple, set, dict**.  \n",
    "    * Dla każdej struktury danych stwórz pustą strukturę, dodaj do niej 3 dowolne elementy, następnie usuń jeden.  \n",
    "    * Jakie są różnice w poszczególnych strukturach?"
   ]
  },
  {
   "cell_type": "code",
   "metadata": {
    "ExecuteTime": {
     "end_time": "2025-03-08T14:44:02.590608Z",
     "start_time": "2025-03-08T14:44:02.580686Z"
    }
   },
   "source": [
    " lista = list()\n",
    "tupla = (2, 4.21, 'tuple')\n",
    "zbior = set()\n",
    "slownik = dict()\n",
    "\n",
    "lista.append(1)\n",
    "lista.append(2.3)\n",
    "lista.append('list')\n",
    "\n",
    "zbior.add(9)\n",
    "zbior.add(9.998)\n",
    "zbior.add(\"set\")\n",
    "\n",
    "slownik.update({\n",
    "    \"id\" : 1,\n",
    "    \"salary\" : 2500.00,\n",
    "    \"name\" : \"John\"\n",
    "})\n",
    "print(lista)\n",
    "print(tupla)\n",
    "print(zbior)\n",
    "print(slownik)\n",
    "\n",
    "lista.remove(1)\n",
    "del tupla #nie da się usunąć elementu(jest niemutowalna) można utworzyć nową bez tego elementu\n",
    "zbior.remove(9.998)\n",
    "slownik.pop(\"id\")\n",
    "print()\n",
    "print(lista)\n",
    "print(\" \")\n",
    "print(zbior)\n",
    "print(slownik)\n",
    "\n",
    "# list - jest mutowalna, zachowuje kolejność elementów, daje dostęp po indeksach, elementy nie są unikalne.\n",
    "# tuple - niemutowalna, zachowuje kolejność, daje dostęp po indeksach, elementy nie są unikalne\n",
    "# set - mutowalna, nie zachowuje kolejności, nie daje dostępu po indeksie, elementy są unikalne, hashowanie\n",
    "# dict - mutowalna, zachowuje kolejność, nie daje dostępu po indeksie, elementy są unikalne, hashowanie"
   ],
   "outputs": [
    {
     "name": "stdout",
     "output_type": "stream",
     "text": [
      "[1, 2.3, 'list']\n",
      "(2, 4.21, 'tuple')\n",
      "{9, 'set', 9.998}\n",
      "{'id': 1, 'salary': 2500.0, 'name': 'John'}\n",
      "\n",
      "[2.3, 'list']\n",
      " \n",
      "{9, 'set'}\n",
      "{'salary': 2500.0, 'name': 'John'}\n"
     ]
    }
   ],
   "execution_count": 25
  },
  {
   "cell_type": "markdown",
   "metadata": {},
   "source": [
    "3. Podstawowa kontrola przepływu danych.  \n",
    "    * Zapisz dowolny warunek logiczny z wykorzystaniem instrukcji warunkowych if, elif i else.\n",
    "    * Wypisz liczby od 0 do 10 za pomocą pęli **for i while**\n",
    "    * Napisz kod, który przeiteruje po strukturze list, tak aby wypisać wszystkie elementy wraz z ich pozycjami:  \n",
    "    ```\n",
    "    list = ['element1', 'element2', 'element3']\n",
    "    element1 indeks1\n",
    "    element2 indeks2\n",
    "    element3 indeks3\n",
    "    ```  \n",
    "    Pomocne może być wykorzystanie funkcji **enumerate()**\n",
    "    * Napisz kod, który przeiteruje jednocześnie po dwóch listach i wypisze ich elementy. Zapoznaj się z funkcją **zip()**.  \n",
    "    Czy można przeiterować przez większą ilość struktur danych, niż 2?"
   ]
  },
  {
   "cell_type": "code",
   "metadata": {
    "ExecuteTime": {
     "end_time": "2025-03-08T15:54:47.196736Z",
     "start_time": "2025-03-08T15:54:47.187869Z"
    }
   },
   "source": [
    "a = 1\n",
    "b = 2\n",
    "c = 1\n",
    "if a <= b: c = 2\n",
    "print(c)\n",
    "\n",
    "for i in range(11):\n",
    "    print(i)\n",
    "\n",
    "lista = ['element1', 'element2', 'element3']\n",
    "for i,e in enumerate(lista):\n",
    "    print(f\"{e}   {i}\")\n",
    "\n",
    "lista2 = ['jablko', 'okon', 'tramwaj', 'koala']\n",
    "\n",
    "for l1, l2 in zip(lista, lista2):\n",
    "    print(f\"lista1 = {l1}   lista2 = {l2}\")\n",
    "\n",
    "# Dzięki funkcji zip() możemy przeiterować po większej liczbie struktur danych niż 2"
   ],
   "outputs": [
    {
     "name": "stdout",
     "output_type": "stream",
     "text": [
      "2\n",
      "0\n",
      "1\n",
      "2\n",
      "3\n",
      "4\n",
      "5\n",
      "6\n",
      "7\n",
      "8\n",
      "9\n",
      "10\n",
      "element1   0\n",
      "element2   1\n",
      "element3   2\n",
      "lista1 = element1   lista2 = jablko\n",
      "lista1 = element2   lista2 = okon\n",
      "lista1 = element3   lista2 = tramwaj\n"
     ]
    }
   ],
   "execution_count": 31
  },
  {
   "cell_type": "markdown",
   "metadata": {},
   "source": [
    "4. Comprehensions\n",
    "    * Stwórz listę zawierającą liczby o 0 do 20, następnie na jej podstawie stwórz listę liczb parzystych bez wykorzystania pętli. (List Comprehension)\n",
    "    * Stwórz słownik (dict), w którym kluczami będą kolejne liczby z zakresu od 0 do 20, a wartościami kwadrat wartości klucza. Nie korzystaj z pętli. (Dictionary Comprehension)\n",
    "    ```\n",
    "    {0: 0, 1: 1, 2: 4, 3: 9, ...}\n",
    "    ```"
   ]
  },
  {
   "cell_type": "code",
   "metadata": {
    "ExecuteTime": {
     "end_time": "2025-03-08T16:06:33.257488Z",
     "start_time": "2025-03-08T16:06:33.247201Z"
    }
   },
   "source": [
    "lista1 = [i for i in range(21)]\n",
    "print(lista1)\n",
    "lista2 = [i for i in lista1 if i%2 == 0]\n",
    "print(lista2)\n",
    "\n",
    "slownik = {j : j**2 for j in range(21)}\n",
    "print(slownik)\n",
    "\n"
   ],
   "outputs": [
    {
     "name": "stdout",
     "output_type": "stream",
     "text": [
      "[0, 1, 2, 3, 4, 5, 6, 7, 8, 9, 10, 11, 12, 13, 14, 15, 16, 17, 18, 19, 20]\n",
      "[0, 2, 4, 6, 8, 10, 12, 14, 16, 18, 20]\n"
     ]
    },
    {
     "data": {
      "text/plain": [
       "{0: 0,\n",
       " 1: 1,\n",
       " 2: 4,\n",
       " 3: 9,\n",
       " 4: 16,\n",
       " 5: 25,\n",
       " 6: 36,\n",
       " 7: 49,\n",
       " 8: 64,\n",
       " 9: 81,\n",
       " 10: 100,\n",
       " 11: 121,\n",
       " 12: 144,\n",
       " 13: 169,\n",
       " 14: 196,\n",
       " 15: 225,\n",
       " 16: 256,\n",
       " 17: 289,\n",
       " 18: 324,\n",
       " 19: 361,\n",
       " 20: 400}"
      ]
     },
     "execution_count": 47,
     "metadata": {},
     "output_type": "execute_result"
    }
   ],
   "execution_count": 47
  },
  {
   "cell_type": "markdown",
   "metadata": {},
   "source": [
    "5. Funkcje\n",
    "    * Napisz funkcje wykonujące operacje dodawania, odejmowania, mnożenia dla dwóch argumentów.\n",
    "    * Rozwiń funkcje, aby wykonywały operacje dla dowolnej ilości argumentów."
   ]
  },
  {
   "cell_type": "code",
   "metadata": {
    "ExecuteTime": {
     "end_time": "2025-03-08T16:16:29.058388Z",
     "start_time": "2025-03-08T16:16:29.048944Z"
    }
   },
   "source": [
    "def add(a, b):\n",
    "    return a + b\n",
    "\n",
    "def sub(a, b):\n",
    "    return a - b\n",
    "\n",
    "def multiply(a, b):\n",
    "    return a*b\n",
    "\n",
    "\n",
    "print(add(1, 4.3))\n",
    "print(sub(11, 24.1))\n",
    "print(multiply(15, 'Hi'))\n",
    "\n",
    "def ext_add(*args):\n",
    "    sum = 0\n",
    "    for i in args:\n",
    "        sum += i\n",
    "\n",
    "    return  sum\n",
    "\n",
    "def ext_multiply(*args):\n",
    "    result = 1\n",
    "    for i in args:\n",
    "        result *= i\n",
    "    return result\n",
    "\n",
    "print(ext_add(2,3,4,4))\n",
    "print(ext_multiply(2,4,3))\n",
    "\n"
   ],
   "outputs": [
    {
     "name": "stdout",
     "output_type": "stream",
     "text": [
      "5.3\n",
      "-13.100000000000001\n",
      "HiHiHiHiHiHiHiHiHiHiHiHiHiHiHi\n",
      "13\n",
      "24\n"
     ]
    }
   ],
   "execution_count": 54
  },
  {
   "cell_type": "markdown",
   "metadata": {},
   "source": [
    "6. Obsługa plików\n",
    "    * Stwórz listę z liczbami od 1 do 20, następnie stwórz plik o nazwie \"plik.txt\", który w pierwszej lini będzie zawierał zdanie: \"Praca z plikiem.\", a w kolejnych liniach elementy z listy. Na końcu zamknij plik.\n",
    "    * Otwórz wcześniej stworzony plik i wypisz jego zawartość.\n",
    "    * Jakie są tryby otwierania pliku i co oznaczają?\n",
    "    * Czym różni się konstrukcja obsługi pliku ze słowem kluczowym `with`?\n",
    "    "
   ]
  },
  {
   "cell_type": "code",
   "metadata": {
    "ExecuteTime": {
     "end_time": "2025-03-08T16:33:14.903819Z",
     "start_time": "2025-03-08T16:33:14.883912Z"
    }
   },
   "source": [
    "open('plik.txt', 'w')\n",
    "lista = [i for i in range(1,21)]\n",
    "\n",
    "with open('plik.txt', 'w') as f:\n",
    "    f.write(\"Praca z plikiem \\n\")\n",
    "    for i in lista:\n",
    "        f.write(str(i)+\"\\n\")\n",
    "\n",
    "with open('plik.txt', 'r') as f:\n",
    "    for e in f:\n",
    "        print(e)\n",
    "\n",
    "\n",
    "# 'r'\tOdczyt (plik musi istnieć)\n",
    "# 'w'\tZapis (tworzy nowy plik lub nadpisuje)\n",
    "# 'a'\tDopisywanie (dodaje na końcu pliku)\n",
    "# 'x'\tTworzenie (tylko, jeśli plik nie istnieje)\n",
    "# 'rb'\tOdczyt binarny\n",
    "# 'wb'\tZapis binarny\n",
    "# 'r+'\tOdczyt i zapis (plik musi istnieć)\n",
    "# 'w+'\tZapis i odczyt (tworzy plik, nadpisuje)\n",
    "# 'a+'\tDopisywanie i odczyt\n",
    "\n",
    "# Używanie with zapewnia, że plik zostanie poprawnie zamknięty,\n",
    "# nawet jeśli w trakcie pracy z nim wystąpi błąd."
   ],
   "outputs": [
    {
     "name": "stdout",
     "output_type": "stream",
     "text": [
      "Praca z plikiem \n",
      "\n",
      "1\n",
      "\n",
      "2\n",
      "\n",
      "3\n",
      "\n",
      "4\n",
      "\n",
      "5\n",
      "\n",
      "6\n",
      "\n",
      "7\n",
      "\n",
      "8\n",
      "\n",
      "9\n",
      "\n",
      "10\n",
      "\n",
      "11\n",
      "\n",
      "12\n",
      "\n",
      "13\n",
      "\n",
      "14\n",
      "\n",
      "15\n",
      "\n",
      "16\n",
      "\n",
      "17\n",
      "\n",
      "18\n",
      "\n",
      "19\n",
      "\n"
     ]
    }
   ],
   "execution_count": 61
  },
  {
   "cell_type": "markdown",
   "metadata": {},
   "source": [
    "7. Klasy\n",
    "    * Stwórz klasę reprezentującą samochód. W klasie ma znajdować się jedno pole przechowujące informacje o prędkości jadącego samochodu w km/h. Stwórz metody do przyspieszania i zwalnia. Jedno wywołanie metody powinno zmieniać wartość prędkości o 5 km/h. Stwórz metodę, która będzie informować z jaką prędkością porusza się akutalnie samochód. \n",
    "    * Stwórz dwa obiekty klasy reprezentującej samochód. Wywołaj kilkukrotnie metody zmiany prędkości. Wypisz aktualne prędkości samochodów.\n",
    "    * Do czego służy słowo kluczowe `self` znajdujące się wewnątrz klasy?"
   ]
  },
  {
   "metadata": {
    "ExecuteTime": {
     "end_time": "2025-03-08T17:25:13.288795Z",
     "start_time": "2025-03-08T17:25:13.279191Z"
    }
   },
   "cell_type": "code",
   "source": [
    "class Car:\n",
    "    def __init__(self, speed):\n",
    "        self.speed = speed\n",
    "\n",
    "    def accelerate(self):\n",
    "        self.speed += 5\n",
    "\n",
    "    def slow_down(self):\n",
    "        self.speed -= 5\n",
    "\n",
    "    def show_speed(self, name):\n",
    "        print(f\"{name} speed = {self.speed} km/h\")\n",
    "\n",
    "car1 = Car(50)\n",
    "car2 = Car(65)\n",
    "\n",
    "car1.accelerate()\n",
    "car1.accelerate()\n",
    "car2.slow_down()\n",
    "car1.accelerate()\n",
    "car2.accelerate()\n",
    "car1.slow_down()\n",
    "car1.slow_down()\n",
    "car1.accelerate()\n",
    "car1.accelerate()\n",
    "car1.accelerate()\n",
    "car1.accelerate()\n",
    "car1.accelerate()\n",
    "car2.accelerate()\n",
    "car1.accelerate()\n",
    "car1.slow_down()\n",
    "car1.slow_down()\n",
    "car1.slow_down()\n",
    "car2.slow_down()\n",
    "car2.slow_down()\n",
    "car2.slow_down()\n",
    "car2.slow_down()\n",
    "\n",
    "car1.show_speed(\"car1\")\n",
    "car2.show_speed(\"car2\")\n",
    "\n",
    "# self daje możliwość do odwoływnia się do atrybutów i metod w konkretnym obiekcie a nie klasie\n"
   ],
   "outputs": [
    {
     "name": "stdout",
     "output_type": "stream",
     "text": [
      "car1 speed = 60 km/h\n",
      "car2 speed = 50 km/h\n"
     ]
    }
   ],
   "execution_count": 67
  }
 ],
 "metadata": {
  "kernelspec": {
   "display_name": "Python 3",
   "language": "python",
   "name": "python3"
  },
  "language_info": {
   "codemirror_mode": {
    "name": "ipython",
    "version": 3
   },
   "file_extension": ".py",
   "mimetype": "text/x-python",
   "name": "python",
   "nbconvert_exporter": "python",
   "pygments_lexer": "ipython3",
   "version": "3.8.5"
  }
 },
 "nbformat": 4,
 "nbformat_minor": 4
}
