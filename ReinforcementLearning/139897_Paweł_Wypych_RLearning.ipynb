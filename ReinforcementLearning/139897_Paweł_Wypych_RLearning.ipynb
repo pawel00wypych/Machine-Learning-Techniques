{
 "cells": [
  {
   "metadata": {},
   "cell_type": "markdown",
   "source": [
    "Implementacje uczenia przez wzmacnianie za pomocą wybranej biblioteki (np. gymnasium)\n",
    "na podstawie dowolnego problemu (proszę użyć środowiska dostępnego już w bibliotece, carpole, pendolium, mountaincar etc)\n",
    "- prosze przygotować wizualizację nauki\n",
    "- Proszę dokonać nauki modelu przez min. dwie metody; np Qlearning i SARSA oraz je porównać, jakie są różnice?\n",
    "- Prosze dokonać testów dla różnych parametrów modeli oraz je porównać, jakie są różnica? (Krzywe uczenia, czas obliczeń, wpływ hiperparametrów:\n",
    "    - Współczynnik uczenia (learning rate)\n",
    "    - Współczynnik dyskontowania (discount factor)\n",
    "    - Strategia eksploracji (ε-greedy, zmniejszanie ε w czasie)"
   ],
   "id": "bf99a47685b09e72"
  },
  {
   "metadata": {},
   "cell_type": "code",
   "outputs": [],
   "execution_count": null,
   "source": "",
   "id": "8bf2205dcf0763b2"
  }
 ],
 "metadata": {
  "kernelspec": {
   "display_name": "Python 3",
   "language": "python",
   "name": "python3"
  },
  "language_info": {
   "codemirror_mode": {
    "name": "ipython",
    "version": 2
   },
   "file_extension": ".py",
   "mimetype": "text/x-python",
   "name": "python",
   "nbconvert_exporter": "python",
   "pygments_lexer": "ipython2",
   "version": "2.7.6"
  }
 },
 "nbformat": 4,
 "nbformat_minor": 5
}
