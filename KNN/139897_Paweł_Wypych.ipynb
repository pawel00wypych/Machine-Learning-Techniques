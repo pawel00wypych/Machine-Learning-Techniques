{
 "cells": [
  {
   "cell_type": "markdown",
   "metadata": {},
   "source": [
    "# Przygotowanie"
   ]
  },
  {
   "cell_type": "markdown",
   "metadata": {},
   "source": [
    "Przygotowanie Przed rozpoczęciem pracy z notatnikiem proszę zmienić jego nazwę dodając na początku numer albumu, imię i nazwisko. {nr_albumu}_{imię}_{nazwisko}_{nazwa}\n",
    "\n",
    "Po wykonaniu wszystkich zadań proszę przesłać wypełniony notatnik przez platformę ELF za pomocą formularza \"Prześlij projekt\" w odpowiedniej sekcji."
   ]
  },
  {
   "cell_type": "markdown",
   "metadata": {},
   "source": [
    "# KNN"
   ]
  },
  {
   "cell_type": "markdown",
   "metadata": {},
   "source": [
    "Podobnie jak w przypadku maszyny wektorów nosnych (SVC) oraz drzew decyzyjnych, KNN może słuzyc do rozwiazywania problemów zarówno klasyfikacji, jak i regresji. Algorytm KNN jest przykładem leniwego uczenia (lazy learning), co oznacza, że nie tworzy on modelu na podstawie danych uczących. Zamiast tego, w momencie klasyfikacji nowej obserwacji, algorytm poszukuje k najbardziej podobnych przypadków w zbiorze danych treningowych i przypisuje mu etykietę tej klasy, do której należy większość jego k sąsiadów.\n",
    "\n",
    "**Algorytm KNN może być wykorzystywany zarówno do zadań klasyfikacji, jak i regresji.**\n",
    "\n",
    "### Skalowanie danych\n",
    "\n",
    "Jednym z istotnych elementów implementacji algorytmu KNN jest konieczność skalowania danych. Ponieważ algorytm ten opiera się na obliczaniu odległości pomiędzy punktami danych, różnice w jednostkach lub skali poszczególnych cech mogą prowadzić do zakłamanych wyników. Dlatego zazwyczaj skalowanie danych jest niezbędne, na przykład za pomocą standaryzacji lub normalizacji.\n",
    "\n",
    "### Metryki odległości w KNN\n",
    "\n",
    "Metryki odległości są kluczowym elementem algorytmu KNN, ponieważ definiują sposób działania algorytmu. Istnieją różne metryki odległości, z których najczęściej używanymi są:\n",
    "\n",
    "1. *Odległość euklidesowa*: najpopularniejsza metryka odległości, która oblicza odległość między dwoma punktami w przestrzeni euklidesowej. W przypadku dwuwymiarowej przestrzeni (2D), odległość między punktami $(x_1, y_1)$ i $(x_2, y_2)$ obliczana jest jako $\\sqrt{(x_2-x_1)^2 + (y_2-y_1)^2}$. W przestrzeni trójwymiarowej (3D), dodatkowo uwzględniana jest trzecia współrzędna.\n",
    "\n",
    "2. *Odległość Manhattan*: oblicza sumę różnic wartości bezwzględnych między odpowiadającymi współrzędnymi punktów. W przestrzeni dwuwymiarowej, odległość między punktami $(x_1, y_1)$ i $(x_2, y_2)$ wynosi $|x_2-x_1| + |y_2-y_1|$, podczas gdy w przestrzeni trójwymiarowej dodaje się jeszcze różnicę trzeciej współrzędnej.\n"
   ]
  },
  {
   "cell_type": "code",
   "metadata": {},
   "source": [
    "import pandas as pd\n",
    "import numpy as np"
   ],
   "outputs": [],
   "execution_count": null
  },
  {
   "cell_type": "markdown",
   "metadata": {},
   "source": [
    "## Zadanie 1"
   ]
  },
  {
   "cell_type": "markdown",
   "metadata": {},
   "source": [
    "Proszę pobrać, wczytać, oraz dokonać wizualizacji danych: https://archive.ics.uci.edu/dataset/17/breast+cancer+wisconsin+diagnostic\n",
    "\n",
    "Wizualizacji oraz dalszych obliczeń proszę dokonać tylko dla trzech wybranych przez siebie cech"
   ]
  },
  {
   "cell_type": "code",
   "metadata": {},
   "source": [
    "from ucimlrepo import fetch_ucirepo\n",
    "import matplotlib.pyplot as plt\n",
    "import seaborn as sns\n",
    "\n",
    "breast_cancer_wisconsin_diagnostic = fetch_ucirepo(id=17)\n",
    "\n",
    "X = breast_cancer_wisconsin_diagnostic.data.features\n",
    "y = breast_cancer_wisconsin_diagnostic.data.targets\n",
    "X = X.iloc[:, :3]\n",
    "\n",
    "df = X.copy()\n",
    "df['target'] = y\n",
    "df['target'] = df['target'].map({'M': 'Malignant', 'B': 'Benign'})\n",
    "\n",
    "sns.pairplot(df, hue='target', diag_kind='kde')\n",
    "plt.suptitle(\"Pairplot of First 3 Features\", y=1.02)\n",
    "plt.show()"
   ],
   "outputs": [],
   "execution_count": null
  },
  {
   "metadata": {},
   "cell_type": "code",
   "source": [
    "import plotly.express as px\n",
    "\n",
    "fig = px.scatter_3d(df,\n",
    "                    x=df.columns[0],\n",
    "                    y=df.columns[1],\n",
    "                    z=df.columns[2],\n",
    "                    color='target',\n",
    "                    title=\"3D Scatter Plot of First 3 Features\",\n",
    "                    opacity=0.7)\n",
    "fig.show()"
   ],
   "outputs": [],
   "execution_count": null
  },
  {
   "cell_type": "markdown",
   "metadata": {},
   "source": [
    "## Zadanie 2"
   ]
  },
  {
   "cell_type": "markdown",
   "metadata": {},
   "source": [
    "Proszę dokonać czyszczenia danych, sprawdzić czy nie ma danych brakujących oraz dokonać skalowania danych"
   ]
  },
  {
   "cell_type": "code",
   "metadata": {},
   "source": [
    "from sklearn.preprocessing import StandardScaler\n",
    "\n",
    "print(\"missing values in data:\")\n",
    "print(X.isnull().sum())\n",
    "print(\"missing values in labels:\")\n",
    "print(y.isnull().sum())\n",
    "\n",
    "X = X.dropna()\n",
    "y = y.dropna()\n",
    "\n",
    "scaler = StandardScaler()\n",
    "X_scaled = scaler.fit_transform(X.iloc[:, :3])\n",
    "\n",
    "df_scaled = pd.DataFrame(X_scaled, columns=X.columns[:3])\n",
    "\n",
    "y_series = y['Diagnosis'].copy()\n",
    "\n",
    "y_series = y_series.map({'M': 1, 'B': 0})\n",
    "df_scaled['target'] = y_series\n",
    "fig = px.scatter_3d(df_scaled,\n",
    "                    x=df_scaled.columns[0],\n",
    "                    y=df_scaled.columns[1],\n",
    "                    z=df_scaled.columns[2],\n",
    "                    color='target',\n",
    "                    title=\"3D Scatter Plot (Standardized Features)\",\n",
    "                    opacity=0.7)\n",
    "fig.show()"
   ],
   "outputs": [],
   "execution_count": null
  },
  {
   "cell_type": "markdown",
   "metadata": {},
   "source": [
    "## Zadanie 3"
   ]
  },
  {
   "cell_type": "markdown",
   "metadata": {},
   "source": [
    "Proszę zaimplementować algorytm KNN. Algorytm ma być w stanie dokonać klasyfikacji zarówno dla dwóch, jak i trzech cech. Parametr k ma być możliwy do podania na wejście algorytmu."
   ]
  },
  {
   "cell_type": "code",
   "metadata": {},
   "source": [
    "from collections import Counter\n",
    "\n",
    "\n",
    "def euclidean_distance(x1, x2):\n",
    "    result = np.sqrt(np.sum((x1 - x2) ** 2))\n",
    "    return result\n",
    "\n",
    "def knn_pred(X_train, X_test, y_train , k, return_proba=False):\n",
    "    predictions = []\n",
    "    probabilities = []\n",
    "    for x in X_test:\n",
    "        distances = [euclidean_distance(x, x_train) for x_train in X_train]\n",
    "        ind = np.argsort(distances)[:k]\n",
    "        nearest_labels = [y_train.iloc[i] for i in ind]\n",
    "        most_common = Counter(nearest_labels).most_common(1)\n",
    "        predictions.append(most_common[0][0])\n",
    "        count = Counter(nearest_labels)\n",
    "\n",
    "        if return_proba:\n",
    "            proba = count[1] / k\n",
    "            probabilities.append(proba)\n",
    "\n",
    "    if return_proba:\n",
    "        return np.array(predictions), np.array(probabilities)\n",
    "    else:\n",
    "        return np.array(predictions)\n",
    "\n",
    "def check_accuracy(X_train, X_test, y_train, y_test, k):\n",
    "    y_pred = knn_pred(X_train, X_test, y_train, k)\n",
    "    return np.mean(y_pred == y_test)\n"
   ],
   "outputs": [],
   "execution_count": null
  },
  {
   "cell_type": "markdown",
   "metadata": {},
   "source": [
    "## Zadanie 4"
   ]
  },
  {
   "cell_type": "markdown",
   "metadata": {},
   "source": [
    "Proszę wytrenować model z użyciem zbiotu danych. Proszę pamiętać o odpowienim podziale na zbiór testowy i treningowy. Klasyfikator powinien być trenowany na zbiorze treningowym, a wynik jego skuteczności po trenowaniu obliczany w oparciu o zbiór testowy.\n",
    "\n",
    "Proszę przygotować wyniki, trenując algorytm z użyciem różnych parametrów k - należy przygotować wykresy (oś pionowa określa skuteczność, pozioma wartość parametru) pokazujące jak zmienia się skuteczność działania w zależności od zastosowanego parameteru k. Proszę o przygotowanie odpowiedniego porównania (tabela), co można zaobserwować?"
   ]
  },
  {
   "cell_type": "code",
   "metadata": {},
   "source": [
    "from sklearn.model_selection import train_test_split\n",
    "from IPython.display import display\n",
    "import time\n",
    "\n",
    "X_train, X_test, y_train, y_test = train_test_split(X_scaled, y_series, test_size=0.3, random_state=123)\n",
    "\n",
    "results = []\n",
    "kk = range(1, 50)\n",
    "start = time.time()\n",
    "for k in kk:\n",
    "    acc = check_accuracy(X_train, X_test, y_train, y_test, k)\n",
    "    results.append({'k': k, 'accuracy': acc})\n",
    "elapsed_time = time.time() - start\n",
    "print(f\"elapsed time = {elapsed_time} sec\")\n",
    "\n",
    "results_df = pd.DataFrame(results)\n",
    "display(results_df)\n",
    "\n",
    "plt.figure(figsize=(12, 8))\n",
    "plt.plot(results_df['k'], results_df['accuracy'], marker='o')\n",
    "plt.title(\"KNN accuracy depending on k\")\n",
    "plt.xlabel(\"num of neighbours - k\")\n",
    "plt.ylabel(\"accuracy\")\n",
    "plt.grid(True)\n",
    "plt.xticks(kk)\n",
    "plt.show()\n",
    "\n",
    "'''Dla małych wartości k model może być bardziej podatny na szum (overfitting).\n",
    "Dla dużych wartości k dokładność może się ustabilizować lub nieco spaść, jeśli sąsiedzi zawierają punkty z różnych klas.'''"
   ],
   "outputs": [],
   "execution_count": null
  },
  {
   "cell_type": "markdown",
   "metadata": {},
   "source": [
    "## Zadanie 5"
   ]
  },
  {
   "cell_type": "markdown",
   "metadata": {},
   "source": [
    "Proszę porównać działanie zaimplementowanego algorytmu z implementacją z Scikit-learn. Proszę dokonać porównania w oparciu o szybkość oraz skuteczność działania. Jakie wnioski można wyciągnać?"
   ]
  },
  {
   "cell_type": "code",
   "metadata": {},
   "source": [
    "from sklearn.neighbors import KNeighborsClassifier\n",
    "\n",
    "results = []\n",
    "kk = range(1, 50)\n",
    "start = time.time()\n",
    "for k in kk:\n",
    "    neigh = KNeighborsClassifier(n_neighbors = k,p=2)\n",
    "    neigh.fit(X_train, y_train)\n",
    "    y_pred = neigh.predict(X_test)\n",
    "    acc = np.mean(y_pred == y_test)\n",
    "    results.append({'k':k,'accuracy':acc})\n",
    "elapsed_time = time.time() - start\n",
    "print(f\"elapsed time = {elapsed_time} sec\")\n",
    "results_df = pd.DataFrame(results)\n",
    "display(results_df)\n",
    "\n",
    "'''Skuteczność działania algorytmów jest taka sama jednak KNN z biblioteki jest znacznie szybszy.'''"
   ],
   "outputs": [],
   "execution_count": null
  },
  {
   "cell_type": "markdown",
   "metadata": {},
   "source": [
    "## Zadanie 6"
   ]
  },
  {
   "cell_type": "markdown",
   "metadata": {},
   "source": [
    "Proszę wyrysować krzywą ROC oraz obliczyć miarę AUC dla wytrenowanych modeli."
   ]
  },
  {
   "cell_type": "code",
   "metadata": {},
   "source": [
    "from sklearn.metrics import roc_curve, auc\n",
    "import matplotlib.pyplot as plt\n",
    "from sklearn.neighbors import KNeighborsClassifier\n",
    "\n",
    "knn_cls = KNeighborsClassifier(n_neighbors=13)\n",
    "knn_cls.fit(X_train, y_train)\n",
    "\n",
    "y_proba = knn_cls.predict_proba(X_test)[:, 1]\n",
    "\n",
    "fpr, tpr, _ = roc_curve(y_test, y_proba, pos_label=1)\n",
    "roc_auc = auc(fpr, tpr)\n",
    "\n",
    "plt.figure()\n",
    "plt.plot(fpr, tpr, color='darkorange', lw=2, label=f'ROC curve (AUC = {roc_auc:.2f})')\n",
    "plt.plot([0, 1], [0, 1], color='navy', lw=1, linestyle='--')\n",
    "plt.xlabel('False Positive Rate')\n",
    "plt.ylabel('True Positive Rate')\n",
    "plt.title('ROC Curve - Scikit-learn KNN')\n",
    "plt.legend(loc=\"lower right\")\n",
    "plt.grid()\n",
    "plt.show()\n"
   ],
   "outputs": [],
   "execution_count": null
  },
  {
   "metadata": {},
   "cell_type": "code",
   "source": [
    "y_pred, y_proba = knn_pred(X_train, X_test, y_train , 13, return_proba=True)\n",
    "\n",
    "fpr_my, tpr_my, _ = roc_curve(y_test, y_proba, pos_label=1)\n",
    "roc_auc = auc(fpr_my, tpr_my)\n",
    "\n",
    "plt.figure()\n",
    "plt.plot(fpr_my, tpr_my, color='darkorange', lw=2, label=f'ROC curve (AUC = {roc_auc:.2f})')\n",
    "plt.plot([0, 1], [0, 1], color='navy', lw=1, linestyle='--')\n",
    "plt.xlabel('False Positive Rate')\n",
    "plt.ylabel('True Positive Rate')\n",
    "plt.title('ROC Curve - my implementation KNN')\n",
    "plt.legend(loc=\"lower right\")\n",
    "plt.grid()\n",
    "plt.show()"
   ],
   "outputs": [],
   "execution_count": null
  }
 ],
 "metadata": {
  "kernelspec": {
   "display_name": "Python 3 (ipykernel)",
   "language": "python",
   "name": "python3"
  },
  "language_info": {
   "codemirror_mode": {
    "name": "ipython",
    "version": 3
   },
   "file_extension": ".py",
   "mimetype": "text/x-python",
   "name": "python",
   "nbconvert_exporter": "python",
   "pygments_lexer": "ipython3",
   "version": "3.12.2"
  },
  "latex_envs": {
   "LaTeX_envs_menu_present": true,
   "autoclose": false,
   "autocomplete": true,
   "bibliofile": "biblio.bib",
   "cite_by": "apalike",
   "current_citInitial": 1,
   "eqLabelWithNumbers": true,
   "eqNumInitial": 1,
   "hotkeys": {
    "equation": "Ctrl-E",
    "itemize": "Ctrl-I"
   },
   "labels_anchors": false,
   "latex_user_defs": false,
   "report_style_numbering": false,
   "user_envs_cfg": false
  }
 },
 "nbformat": 4,
 "nbformat_minor": 4
}
